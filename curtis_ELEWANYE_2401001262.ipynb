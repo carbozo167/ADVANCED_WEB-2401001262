{
  "nbformat": 4,
  "nbformat_minor": 0,
  "metadata": {
    "colab": {
      "provenance": [],
      "toc_visible": true,
      "authorship_tag": "ABX9TyOgM51EQiprVU9WxVa6MXdZ",
      "include_colab_link": true
    },
    "kernelspec": {
      "name": "python3",
      "display_name": "Python 3"
    },
    "language_info": {
      "name": "python"
    }
  },
  "cells": [
    {
      "cell_type": "markdown",
      "metadata": {
        "id": "view-in-github",
        "colab_type": "text"
      },
      "source": [
        "<a href=\"https://colab.research.google.com/github/carbozo167/ADVANCED_WEB-2401001262/blob/main/curtis_ELEWANYE_2401001262.ipynb\" target=\"_parent\"><img src=\"https://colab.research.google.com/assets/colab-badge.svg\" alt=\"Open In Colab\"/></a>"
      ]
    },
    {
      "cell_type": "code",
      "source": [
        "# Create the list\n",
        "names = [\"Kagetera\", \"John\", \"Peter\", \"Alex\", \"Claude\"]\n",
        "\n",
        "# Sort the list in decreasing order\n",
        "names.sort(reverse=True)\n",
        "\n",
        "# Add names to the list\n",
        "names.append(\"ELEWANYE\")\n",
        "names.append(\"UNIVERSITY\")\n",
        "names.append(\"curtis-dorsey\")\n",
        "\n",
        "# Print the updated list to see the result\n",
        "print(names)"
      ],
      "metadata": {
        "colab": {
          "base_uri": "https://localhost:8080/"
        },
        "id": "OPnvjfnAfWdq",
        "outputId": "15e3f592-4903-47be-c6c6-c51378e4d659"
      },
      "execution_count": 1,
      "outputs": [
        {
          "output_type": "stream",
          "name": "stdout",
          "text": [
            "['Peter', 'Kagetera', 'John', 'Claude', 'Alex', 'ELEWANYE', 'UNIVERSITY', 'curtis-dorsey']\n"
          ]
        }
      ]
    }
  ]
}