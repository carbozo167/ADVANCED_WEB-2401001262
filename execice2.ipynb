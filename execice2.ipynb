{
  "nbformat": 4,
  "nbformat_minor": 0,
  "metadata": {
    "colab": {
      "provenance": [],
      "authorship_tag": "ABX9TyNo40IhQMgj3cC4RSLoYdby",
      "include_colab_link": true
    },
    "kernelspec": {
      "name": "python3",
      "display_name": "Python 3"
    },
    "language_info": {
      "name": "python"
    }
  },
  "cells": [
    {
      "cell_type": "markdown",
      "metadata": {
        "id": "view-in-github",
        "colab_type": "text"
      },
      "source": [
        "<a href=\"https://colab.research.google.com/github/carbozo167/ADVANCED_WEB-2401001262/blob/main/execice2.ipynb\" target=\"_parent\"><img src=\"https://colab.research.google.com/assets/colab-badge.svg\" alt=\"Open In Colab\"/></a>"
      ]
    },
    {
      "cell_type": "code",
      "execution_count": 3,
      "metadata": {
        "colab": {
          "base_uri": "https://localhost:8080/"
        },
        "id": "Ugo87nlor0fe",
        "outputId": "870a11e2-33f1-4b98-b95b-4fc9850b10bd"
      },
      "outputs": [
        {
          "output_type": "stream",
          "name": "stdout",
          "text": [
            "Fruit prices per kg:\n",
            "Apple: 1000 RWF per kg\n",
            "Banana: 500 RWF per kg\n",
            "Mango: 1200 RWF per kg\n",
            "\n",
            "Total cost for 2kg of each fruit: 5400 RWF\n"
          ]
        }
      ],
      "source": [
        "prices = {\"Apple\": 1000, \"Banana\": 500, \"Mango\": 1200}\n",
        "\n",
        "# Print each fruit and its price\n",
        "print(\"Fruit prices per kg:\")\n",
        "for fruit, price in prices.items():\n",
        "  print(f\"{fruit}: {price} RWF per kg\")\n",
        "\n",
        "# Calculate and print the total cost of buying 2 kg of each fruit\n",
        "total_cost = 0\n",
        "for price in prices.values():\n",
        "  total_cost += price * 2\n",
        "\n",
        "print(f\"\\nTotal cost for 2kg of each fruit: {total_cost} RWF\")"
      ]
    }
  ]
}